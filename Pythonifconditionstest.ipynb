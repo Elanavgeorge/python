{
  "nbformat": 4,
  "nbformat_minor": 0,
  "metadata": {
    "colab": {
      "provenance": []
    },
    "kernelspec": {
      "name": "python3",
      "display_name": "Python 3"
    },
    "language_info": {
      "name": "python"
    }
  },
  "cells": [
    {
      "cell_type": "code",
      "execution_count": 1,
      "metadata": {
        "colab": {
          "base_uri": "https://localhost:8080/"
        },
        "id": "CtKoUOA5ptj4",
        "outputId": "b59e3e7a-f5f7-41b2-fa64-d6e1a3bc4b15"
      },
      "outputs": [
        {
          "output_type": "stream",
          "name": "stdout",
          "text": [
            "high\n"
          ]
        }
      ],
      "source": [
        "x=10\n",
        "if x>5:\n",
        "   print(\"high\")\n",
        "else:\n",
        "  print(\"Low\")"
      ]
    },
    {
      "cell_type": "code",
      "source": [
        "num=0\n",
        "if num==0:\n",
        "  print(\"false\")\n",
        "else:\n",
        "  print(\"True\")\n",
        ""
      ],
      "metadata": {
        "colab": {
          "base_uri": "https://localhost:8080/"
        },
        "id": "imnT3-nyqxPj",
        "outputId": "c0e0f70b-ad23-4f13-e0c6-740da468d90f"
      },
      "execution_count": 18,
      "outputs": [
        {
          "output_type": "stream",
          "name": "stdout",
          "text": [
            "false\n"
          ]
        }
      ]
    },
    {
      "cell_type": "code",
      "source": [
        "a=int(input(\"enter a number\"))\n",
        "if a==5:\n",
        "  print(\"correct\")\n",
        "else:\n",
        "  print(\"wrong\")\n"
      ],
      "metadata": {
        "colab": {
          "base_uri": "https://localhost:8080/"
        },
        "id": "7R4ZayzSrWxZ",
        "outputId": "7729b6be-0958-422b-9dad-446a554528e1"
      },
      "execution_count": 4,
      "outputs": [
        {
          "output_type": "stream",
          "name": "stdout",
          "text": [
            "enter a number6\n",
            "wrong\n"
          ]
        }
      ]
    },
    {
      "cell_type": "code",
      "source": [
        "marks=int(input(\"enter the marks\"))\n",
        "if marks>=90 and marks<=100:\n",
        "  print(\"grade A\")\n",
        "elif marks>=80 and marks<=89:\n",
        "   print(\" grade B\")\n",
        "elif marks>=70 and marks<=79:\n",
        "    print(\"grade c\")\n",
        "elif marks>=60 and marks<=69:\n",
        "    print(\"grade D\")\n",
        "elif marks<60:\n",
        "    print(\"grade F\")\n",
        "\n"
      ],
      "metadata": {
        "colab": {
          "base_uri": "https://localhost:8080/"
        },
        "id": "QpVKWDVirz2A",
        "outputId": "90c1131b-60c0-4304-c1a4-88b94c4ee67e"
      },
      "execution_count": 19,
      "outputs": [
        {
          "output_type": "stream",
          "name": "stdout",
          "text": [
            "enter the marks78\n",
            "grade c\n"
          ]
        }
      ]
    },
    {
      "cell_type": "code",
      "source": [
        "a=3\n",
        "b=5\n",
        "if a>b:\n",
        "  print('a is big')\n",
        "elif a<b:\n",
        "   print(' b is big')\n",
        "else:\n",
        "  print('equal')\n"
      ],
      "metadata": {
        "colab": {
          "base_uri": "https://localhost:8080/"
        },
        "id": "81cbKnoUs38V",
        "outputId": "d2cd6ef7-136e-41ca-de0b-be85a5d05cfc"
      },
      "execution_count": 6,
      "outputs": [
        {
          "output_type": "stream",
          "name": "stdout",
          "text": [
            " b is big\n"
          ]
        }
      ]
    },
    {
      "cell_type": "code",
      "source": [
        "num=int(input(\"enter the number\"))\n",
        "if num%2==0:\n",
        "  print(\"even\")\n",
        "else:\n",
        "  print(\"odd\")"
      ],
      "metadata": {
        "colab": {
          "base_uri": "https://localhost:8080/"
        },
        "id": "qJ1vw9Uytpjh",
        "outputId": "fce623d2-543e-4ca3-a317-23b57240a5fd"
      },
      "execution_count": 7,
      "outputs": [
        {
          "output_type": "stream",
          "name": "stdout",
          "text": [
            "enter the number35\n",
            "odd\n"
          ]
        }
      ]
    },
    {
      "cell_type": "code",
      "source": [
        "marks=float(input(\"enter a number\"))\n",
        "if marks>=40:\n",
        "  print(\"pass\")\n",
        "else:\n",
        "  print(\"fail\")"
      ],
      "metadata": {
        "colab": {
          "base_uri": "https://localhost:8080/"
        },
        "id": "Z0pt9tzeuj6c",
        "outputId": "557fca48-5143-42ea-f19b-f1c40b0678a7"
      },
      "execution_count": 9,
      "outputs": [
        {
          "output_type": "stream",
          "name": "stdout",
          "text": [
            "enter a number45.0\n",
            "pass\n"
          ]
        }
      ]
    },
    {
      "cell_type": "code",
      "source": [
        "year=int(input(\"enter the year\"))\n",
        "if year%4==0:\n",
        "  print(\"leap year\")\n",
        "else:\n",
        "  print(\"not leap year\")"
      ],
      "metadata": {
        "colab": {
          "base_uri": "https://localhost:8080/"
        },
        "id": "N6D1VxIdu16H",
        "outputId": "83a777a1-4146-42ff-fdeb-08f5afb772c0"
      },
      "execution_count": 11,
      "outputs": [
        {
          "output_type": "stream",
          "name": "stdout",
          "text": [
            "enter the year2025\n",
            "not leap year\n"
          ]
        }
      ]
    },
    {
      "cell_type": "code",
      "source": [
        "age=int(input(\"enter the age\"))\n",
        "if age>=18:\n",
        "  print(\"eligible to vote\")\n",
        "else:\n",
        "  print(\"not eligible to vote\")\n"
      ],
      "metadata": {
        "colab": {
          "base_uri": "https://localhost:8080/"
        },
        "id": "2wLaH8VLvqFi",
        "outputId": "400b931a-cc76-4222-c07f-02d41ca70b5a"
      },
      "execution_count": 13,
      "outputs": [
        {
          "output_type": "stream",
          "name": "stdout",
          "text": [
            "enter the age12\n",
            "not eligible to vote\n"
          ]
        }
      ]
    },
    {
      "cell_type": "code",
      "source": [
        "num1=int(input(\"enter the number\"))\n",
        "num2=int(input(\"enter the number\"))\n",
        "num3=int(input(\"enter the number\"))\n",
        "if num1>num2 and num1>num3:\n",
        "  print(\"num1 is the  greatest\")\n",
        "elif num2>num1 and num2>num3:\n",
        "  print(\"num2 is the greatest\")\n",
        "else:\n",
        "  print(\"num3 is the greatest\")"
      ],
      "metadata": {
        "colab": {
          "base_uri": "https://localhost:8080/"
        },
        "id": "FxE2T_LNxOpf",
        "outputId": "7fc2839f-1e32-404c-ec3a-1aeeed7e282b"
      },
      "execution_count": 15,
      "outputs": [
        {
          "output_type": "stream",
          "name": "stdout",
          "text": [
            "enter the number23\n",
            "enter the number43\n",
            "enter the number56\n",
            "num3 is the greatest\n"
          ]
        }
      ]
    }
  ]
}